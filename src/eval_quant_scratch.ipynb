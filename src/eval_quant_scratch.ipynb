{
 "cells": [
  {
   "cell_type": "code",
   "execution_count": 21,
   "id": "b09c1437",
   "metadata": {},
   "outputs": [],
   "source": [
    "# ======================================\n",
    "# 📦 1. Setup & Imports\n",
    "# ======================================\n",
    "import os\n",
    "import time\n",
    "import torch\n",
    "import numpy as np\n",
    "import matplotlib.pyplot as plt\n",
    "from tqdm import tqdm\n",
    "from sklearn.metrics import (\n",
    "    accuracy_score,\n",
    "    precision_recall_fscore_support,\n",
    "    confusion_matrix,\n",
    "    ConfusionMatrixDisplay\n",
    ")\n",
    "from datasets import load_dataset, concatenate_datasets, DatasetDict\n",
    "from transformers import GPT2TokenizerFast, GPT2ForSequenceClassification, set_seed"
   ]
  },
  {
   "cell_type": "code",
   "execution_count": 22,
   "id": "5c8cc289",
   "metadata": {},
   "outputs": [
    {
     "name": "stdout",
     "output_type": "stream",
     "text": [
      "✅ Using device: cuda\n"
     ]
    }
   ],
   "source": [
    "# ======================================\n",
    "# ⚙️ 2. Configuration\n",
    "# ======================================\n",
    "SEED = 42\n",
    "set_seed(SEED)\n",
    "\n",
    "PROJECT_DIR = \"/content/drive/MyDrive/gpt2_agnews_project\"\n",
    "MODEL_DIR = os.path.join(PROJECT_DIR, \"model_output\", \"checkpoint-12760\")\n",
    "QUANT_MAP_PATH = os.path.join(PROJECT_DIR, \"gpt2_int8_quant_map.pt\")\n",
    "\n",
    "device = torch.device(\"cuda\" if torch.cuda.is_available() else \"cpu\")\n",
    "print(\"✅ Using device:\", device)"
   ]
  },
  {
   "cell_type": "code",
   "execution_count": 24,
   "id": "fe12da69",
   "metadata": {},
   "outputs": [
    {
     "name": "stdout",
     "output_type": "stream",
     "text": [
      "✅ Using device: cuda\n"
     ]
    }
   ],
   "source": [
    "# ======================================\n",
    "# ⚙️ 2. Configuration\n",
    "# ======================================\n",
    "SEED = 42\n",
    "set_seed(SEED)\n",
    "\n",
    "MODEL_DIR = os.path.join(\"checkpoint-12760\")\n",
    "QUANT_MAP_PATH = os.path.join(\"quant_scratch\", \"gpt2_int8_quant_map.pt\")\n",
    "device = torch.device(\"cuda\" if torch.cuda.is_available() else \"cpu\")\n",
    "print(\"✅ Using device:\", device)"
   ]
  },
  {
   "cell_type": "code",
   "execution_count": 25,
   "id": "efec1e52",
   "metadata": {},
   "outputs": [
    {
     "name": "stdout",
     "output_type": "stream",
     "text": [
      "✅ Dataset Loaded: Test Size = 12760\n"
     ]
    }
   ],
   "source": [
    "# ======================================\n",
    "# 📂 3. Load Dataset\n",
    "# ======================================\n",
    "dataset = load_dataset(\"ag_news\")\n",
    "full_dataset = concatenate_datasets([dataset[\"train\"], dataset[\"test\"]]).shuffle(seed=SEED)\n",
    "\n",
    "train_testvalid = full_dataset.train_test_split(test_size=0.2, seed=SEED)\n",
    "valid_test = train_testvalid[\"test\"].train_test_split(test_size=0.5, seed=SEED)\n",
    "\n",
    "dataset = DatasetDict({\n",
    "    \"train\": train_testvalid[\"train\"],\n",
    "    \"validation\": valid_test[\"train\"],\n",
    "    \"test\": valid_test[\"test\"]\n",
    "})\n",
    "\n",
    "texts = dataset[\"test\"][\"text\"]\n",
    "labels = np.array(dataset[\"test\"][\"label\"])\n",
    "print(f\"✅ Dataset Loaded: Test Size = {len(dataset['test'])}\")"
   ]
  },
  {
   "cell_type": "code",
   "execution_count": 26,
   "id": "98eccb37",
   "metadata": {},
   "outputs": [],
   "source": [
    "# # ======================================\n",
    "# # 🤗 4. Load Fine-Tuned Model\n",
    "# # ======================================\n",
    "tokenizer = GPT2TokenizerFast.from_pretrained(MODEL_DIR)\n",
    "# model_fp32 = GPT2ForSequenceClassification.from_pretrained(MODEL_DIR)\n",
    "# model_fp32.eval()\n",
    "# model_fp32.to(device)\n",
    "# print(\"✅ Loaded fine-tuned GPT-2 model\")"
   ]
  },
  {
   "cell_type": "code",
   "execution_count": 31,
   "id": "e74b870e",
   "metadata": {},
   "outputs": [],
   "source": [
    "# ======================================\n",
    "# 🧮 5. Symmetric INT8 Quantization Functions\n",
    "# ======================================\n",
    "def quantize_fp32_to_int8(tensor):\n",
    "    \"\"\"Symmetric per-tensor int8 quantization.\"\"\"\n",
    "    max_abs = tensor.abs().max()\n",
    "    scale = (max_abs / 127.0).item() if max_abs != 0 else 1.0\n",
    "    quantized_tensor = (tensor / scale).round().clamp(-127, 127).to(torch.int8)\n",
    "    zero_point = 0.0\n",
    "    return quantized_tensor, scale, zero_point\n",
    "\n",
    "def dequantize_int8_to_fp32(quantized_tensor, scale, zero_point):\n",
    "    return quantized_tensor.to(torch.float32) * scale + zero_point\n",
    "\n",
    "def quantize_model_symmetric_int8_with_memory(model_dir, device):\n",
    "    \"\"\"\n",
    "    Quantizes all weight tensors symmetrically to INT8 and computes memory footprint.\n",
    "    Returns: (q_model, quant_map, mem_stats)\n",
    "    \"\"\"\n",
    "    from transformers import GPT2ForSequenceClassification\n",
    "\n",
    "    quant_map = {}\n",
    "    q_model = GPT2ForSequenceClassification.from_pretrained(model_dir)\n",
    "    q_model.eval()\n",
    "\n",
    "    # Track memory\n",
    "    total_fp32_params = 0\n",
    "    total_fp32_bytes = 0\n",
    "    total_int8_params = 0\n",
    "    total_int8_bytes = 0\n",
    "\n",
    "    for name, param in q_model.named_parameters():\n",
    "        total_fp32_params += param.numel()\n",
    "        total_fp32_bytes += param.numel() * param.element_size()  # FP32 size\n",
    "\n",
    "        if name.endswith('weight') and param.data.dim() >= 2:\n",
    "            # Quantize\n",
    "            q_weight, scale, zp = quantize_fp32_to_int8(param.data.detach().cpu())\n",
    "            quant_map[name] = (q_weight, scale, zp)\n",
    "\n",
    "            # Track INT8 stats\n",
    "            total_int8_params += q_weight.numel()\n",
    "            total_int8_bytes += q_weight.numel() * q_weight.element_size()\n",
    "\n",
    "            # Keep quantized-then-dequantized version for model inference\n",
    "            param.data = dequantize_int8_to_fp32(q_weight, scale, zp).to(param.data.device)\n",
    "        else:\n",
    "            # Non-quantized parameters (bias, LN params)\n",
    "            total_int8_params += param.numel()\n",
    "            total_int8_bytes += param.numel() * param.element_size()  # still FP32\n",
    "\n",
    "    q_model.to(device)\n",
    "\n",
    "    mem_stats = {\n",
    "        \"FP32_params\": total_fp32_params,\n",
    "        \"FP32_memory_MB\": total_fp32_bytes / (1024**2),\n",
    "        \"INT8_params\": total_int8_params,\n",
    "        \"INT8_equiv_memory_MB\": total_int8_bytes / (1024**2),\n",
    "        \"Compression_Ratio\": total_fp32_bytes / total_int8_bytes\n",
    "    }\n",
    "\n",
    "    return q_model, quant_map, mem_stats\n"
   ]
  },
  {
   "cell_type": "code",
   "execution_count": 29,
   "id": "aa0d89ed",
   "metadata": {},
   "outputs": [],
   "source": [
    "# ======================================\n",
    "# 💾 6. Model Parameter Memory Footprint\n",
    "# ======================================\n",
    "def get_model_param_memory(model):\n",
    "    total_params = sum(p.numel() for p in model.parameters())\n",
    "    total_bytes = sum(p.numel() * p.element_size() for p in model.parameters())\n",
    "    return total_params, total_bytes / (1024**2)  # MB"
   ]
  },
  {
   "cell_type": "code",
   "execution_count": 30,
   "id": "eb5160be",
   "metadata": {},
   "outputs": [],
   "source": [
    "# ======================================\n",
    "# ⚡ 7. Evaluation Function\n",
    "# ======================================\n",
    "def evaluate_model(model, texts, labels, batch_size=16):\n",
    "    model.eval()\n",
    "    preds, latencies = [], []\n",
    "\n",
    "    with torch.no_grad():\n",
    "        for i in tqdm(range(0, len(texts), batch_size), desc=\"Evaluating INT8 Model\"):\n",
    "            batch_texts = texts[i:i+batch_size]\n",
    "            encodings = tokenizer(\n",
    "                batch_texts,\n",
    "                return_tensors=\"pt\",\n",
    "                padding=True,\n",
    "                truncation=True,\n",
    "                max_length=256\n",
    "            ).to(device)\n",
    "\n",
    "            start = time.time()\n",
    "            outputs = model(**encodings)\n",
    "            end = time.time()\n",
    "\n",
    "            latencies.append((end - start) * 1000 / len(batch_texts))\n",
    "            preds.extend(torch.argmax(outputs.logits, dim=-1).cpu().numpy())\n",
    "\n",
    "    avg_latency = np.mean(latencies)\n",
    "    accuracy = accuracy_score(labels, preds)\n",
    "    precision, recall, f1, _ = precision_recall_fscore_support(labels, preds, average='weighted')\n",
    "    cm = confusion_matrix(labels, preds)\n",
    "\n",
    "    return {\n",
    "        \"accuracy\": accuracy,\n",
    "        \"precision\": precision,\n",
    "        \"recall\": recall,\n",
    "        \"f1\": f1,\n",
    "        \"latency_ms\": avg_latency,\n",
    "        \"confusion_matrix\": cm\n",
    "    }"
   ]
  },
  {
   "cell_type": "code",
   "execution_count": 32,
   "id": "4733d52b",
   "metadata": {},
   "outputs": [
    {
     "name": "stdout",
     "output_type": "stream",
     "text": [
      "\n",
      "⚙️ Applying symmetric INT8 quantization...\n"
     ]
    },
    {
     "name": "stdout",
     "output_type": "stream",
     "text": [
      "✅ Quantization complete. Evaluating quantized model...\n"
     ]
    },
    {
     "name": "stderr",
     "output_type": "stream",
     "text": [
      "Evaluating INT8 Model: 100%|██████████| 798/798 [00:31<00:00, 25.38it/s]\n"
     ]
    }
   ],
   "source": [
    "# ======================================\n",
    "# 🧊 8. Quantize & Evaluate\n",
    "# ======================================\n",
    "print(\"\\n⚙️ Applying symmetric INT8 quantization...\")\n",
    "quant_model, quant_map , mem_stats = quantize_model_symmetric_int8_with_memory(MODEL_DIR, device)\n",
    "print(\"✅ Quantization complete. Evaluating quantized model...\")\n",
    "\n",
    "metrics = evaluate_model(quant_model, texts, labels)\n",
    "params, mem = get_model_param_memory(quant_model)"
   ]
  },
  {
   "cell_type": "code",
   "execution_count": 33,
   "id": "592f5976",
   "metadata": {},
   "outputs": [
    {
     "name": "stdout",
     "output_type": "stream",
     "text": [
      "\n",
      "📊 INT8 Quantized Model Metrics:\n",
      "accuracy    : 0.9447\n",
      "precision   : 0.9446\n",
      "recall      : 0.9447\n",
      "f1          : 0.9446\n",
      "latency_ms  : 1.0667\n",
      "💾 Parameter Memory: 474.71 MB (124,442,880 parameters)\n",
      "{'FP32_params': 124442880, 'FP32_memory_MB': 474.7119140625, 'INT8_params': 124442880, 'INT8_equiv_memory_MB': 119.025146484375, 'Compression_Ratio': 3.9883329538671703}\n"
     ]
    }
   ],
   "source": [
    "# ======================================\n",
    "# 📈 9. Print Results\n",
    "# ======================================\n",
    "print(\"\\n📊 INT8 Quantized Model Metrics:\")\n",
    "for k, v in metrics.items():\n",
    "    if k != \"confusion_matrix\":\n",
    "        print(f\"{k:12}: {v:.4f}\" if isinstance(v, float) else f\"{k:12}: {v}\")\n",
    "print(f\"💾 Parameter Memory: {mem:.2f} MB ({params:,} parameters)\")\n",
    "\n",
    "print(mem_stats)"
   ]
  },
  {
   "cell_type": "code",
   "execution_count": 34,
   "id": "af9a23df",
   "metadata": {},
   "outputs": [
    {
     "data": {
      "image/png": "[encoded data removed]",
      "text/plain": [
       "<Figure size 640x480 with 2 Axes>"
      ]
     },
     "metadata": {},
     "output_type": "display_data"
    }
   ],
   "source": [
    "# ======================================\n",
    "# 📉 10. Confusion Matrix\n",
    "# ======================================\n",
    "disp = ConfusionMatrixDisplay(\n",
    "    confusion_matrix=metrics[\"confusion_matrix\"],\n",
    "    display_labels=[\"World\", \"Sports\", \"Business\", \"Sci/Tech\"]  # keyword argument\n",
    ")\n",
    "disp.plot(cmap=\"Blues\", xticks_rotation=20)\n",
    "plt.title(\"Confusion Matrix – Symmetric INT8 Quantized Model\")\n",
    "plt.show()\n"
   ]
  }
 ],
 "metadata": {
  "kernelspec": {
   "display_name": "base",
   "language": "python",
   "name": "python3"
  },
  "language_info": {
   "codemirror_mode": {
    "name": "ipython",
    "version": 3
   },
   "file_extension": ".py",
   "mimetype": "text/x-python",
   "name": "python",
   "nbconvert_exporter": "python",
   "pygments_lexer": "ipython3",
   "version": "3.13.5"
  }
 },
 "nbformat": 4,
 "nbformat_minor": 5
}
